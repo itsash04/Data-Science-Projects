{
 "cells": [
  {
   "cell_type": "code",
   "execution_count": 1,
   "id": "4affa362-8e90-48a6-af5f-7236ec7d7fa1",
   "metadata": {},
   "outputs": [],
   "source": [
    "import pandas as pd\n",
    "df_0  = pd.read_csv(r'D:\\AISHU\\College notes\\3RD Year\\6TH SEM\\DATA SCIENCE\\Project\\DS\\action.csv').head(20)\n",
    "df_1  = pd.read_csv(r'D:\\AISHU\\College notes\\3RD Year\\6TH SEM\\DATA SCIENCE\\Project\\DS\\adventure.csv').head(20)\n",
    "df_2  = pd.read_csv(r'D:\\AISHU\\College notes\\3RD Year\\6TH SEM\\DATA SCIENCE\\Project\\DS\\animation.csv').head(20)\n",
    "df_3  = pd.read_csv(r'D:\\AISHU\\College notes\\3RD Year\\6TH SEM\\DATA SCIENCE\\Project\\DS\\biography.csv').head(20)\n",
    "df_4  = pd.read_csv(r'D:\\AISHU\\College notes\\3RD Year\\6TH SEM\\DATA SCIENCE\\Project\\DS\\crime.csv').head(20)\n",
    "df_5  = pd.read_csv(r'D:\\AISHU\\College notes\\3RD Year\\6TH SEM\\DATA SCIENCE\\Project\\DS\\family.csv').head(20)\n",
    "df_6  = pd.read_csv(r'D:\\AISHU\\College notes\\3RD Year\\6TH SEM\\DATA SCIENCE\\Project\\DS\\fantasy.csv').head(20)\n",
    "df_7  = pd.read_csv(r'D:\\AISHU\\College notes\\3RD Year\\6TH SEM\\DATA SCIENCE\\Project\\DS\\film-noir.csv').head(20)\n",
    "df_8  = pd.read_csv(r'D:\\AISHU\\College notes\\3RD Year\\6TH SEM\\DATA SCIENCE\\Project\\DS\\history.csv').head(20)\n",
    "df_9  = pd.read_csv(r'D:\\AISHU\\College notes\\3RD Year\\6TH SEM\\DATA SCIENCE\\Project\\DS\\horror.csv').head(20)\n",
    "df_10 = pd.read_csv(r'D:\\AISHU\\College notes\\3RD Year\\6TH SEM\\DATA SCIENCE\\Project\\DS\\mystery.csv').head(20)\n",
    "df_11 = pd.read_csv(r'D:\\AISHU\\College notes\\3RD Year\\6TH SEM\\DATA SCIENCE\\Project\\DS\\romance.csv').head(20)\n",
    "df_12 = pd.read_csv(r'D:\\AISHU\\College notes\\3RD Year\\6TH SEM\\DATA SCIENCE\\Project\\DS\\scifi.csv').head(20)\n",
    "df_13 = pd.read_csv(r'D:\\AISHU\\College notes\\3RD Year\\6TH SEM\\DATA SCIENCE\\Project\\DS\\sports.csv').head(20)\n",
    "df_14 = pd.read_csv(r'D:\\AISHU\\College notes\\3RD Year\\6TH SEM\\DATA SCIENCE\\Project\\DS\\thriller.csv').head(20)\n",
    "df_15 = pd.read_csv(r'D:\\AISHU\\College notes\\3RD Year\\6TH SEM\\DATA SCIENCE\\Project\\DS\\war.csv').head(20)"
   ]
  },
  {
   "cell_type": "code",
   "execution_count": 2,
   "id": "8766f780-4732-493e-a473-45f96fe850b4",
   "metadata": {},
   "outputs": [
    {
     "name": "stdout",
     "output_type": "stream",
     "text": [
      "Unnecessary columns dropped from all datasets.\n"
     ]
    }
   ],
   "source": [
    "dfs = [df_0, df_1, df_2, df_3, df_4, df_5, df_6, df_7, df_8, \n",
    "       df_9, df_10, df_11, df_12, df_13, df_14, df_15]\n",
    "\n",
    "\n",
    "for i in range(len(dfs)):\n",
    "    dfs[i] = dfs[i][['movie_name', 'genre', 'description']]\n",
    "\n",
    "df_0, df_1, df_2, df_3, df_4, df_5, df_6, df_7, df_8, df_9, df_10, df_11, df_12, df_13, df_14, df_15 = dfs\n",
    "\n",
    "print(\"Unnecessary columns dropped from all datasets.\")"
   ]
  },
  {
   "cell_type": "code",
   "execution_count": 3,
   "id": "1221759e-8031-4d32-bc2a-f47265ab0969",
   "metadata": {},
   "outputs": [
    {
     "name": "stdout",
     "output_type": "stream",
     "text": [
      "Null values dropped from all datasets.\n"
     ]
    }
   ],
   "source": [
    "dfs = [df_0, df_1, df_2, df_3, df_4, df_5, df_6, df_7, df_8, \n",
    "       df_9, df_10, df_11, df_12, df_13, df_14, df_15]\n",
    "\n",
    "for i in range(len(dfs)):\n",
    "    dfs[i] = dfs[i].dropna()\n",
    "\n",
    "df_0, df_1, df_2, df_3, df_4, df_5, df_6, df_7, df_8, df_9, df_10, df_11, df_12, df_13, df_14, df_15 = dfs\n",
    "\n",
    "print(\"Null values dropped from all datasets.\")\n",
    "\n"
   ]
  },
  {
   "cell_type": "code",
   "execution_count": 4,
   "id": "32435227-ad35-4b62-8b27-c6cbaa28f1bd",
   "metadata": {},
   "outputs": [
    {
     "name": "stdout",
     "output_type": "stream",
     "text": [
      "['Action', 'Adventure', 'Animation', 'Biography', 'Comedy', 'Crime', 'Drama', 'Family', 'Fantasy', 'Film-Noir', 'History', 'Horror', 'Music', 'Musical', 'Mystery', 'Romance', 'Sci-Fi', 'Sport', 'Thriller', 'War', 'Western']\n"
     ]
    }
   ],
   "source": [
    "import pandas as pd\n",
    "\n",
    "dfs = [df_0, df_1, df_2, df_3, df_4, df_5, df_6, df_7, df_8, \n",
    "       df_9, df_10, df_11, df_12, df_13, df_14, df_15]\n",
    "\n",
    "unique_genres = set()\n",
    "\n",
    "for df in dfs:\n",
    "    df['genre'] = df['genre'].astype(str)\n",
    "    for genres in df['genre'].dropna():\n",
    "        genre_list = [g.strip() for g in genres.split(',')]\n",
    "        unique_genres.update(genre_list)\n",
    "\n",
    "unique_genres = sorted(unique_genres)\n",
    "\n",
    "print(unique_genres)"
   ]
  },
  {
   "cell_type": "code",
   "execution_count": 4,
   "id": "f5e3a0be-583c-4b43-9911-4a8d4d22befa",
   "metadata": {},
   "outputs": [],
   "source": [
    "genre_labels = ['Action', 'Adult', 'Adventure', 'Animation', 'Biography', 'Comedy', 'Crime', 'Drama', 'Family', 'Fantasy', 'Film-Noir', 'Game-Show', 'History', 'Horror', 'Music', 'Musical', 'Mystery', 'News', 'Reality-TV', 'Romance', 'Sci-Fi', 'Short', 'Sport', 'Talk-Show', 'Thriller', 'War', 'Western']\n",
    "\n",
    "dfs = [df_0, df_1, df_2, df_3, df_4, df_5, df_6, df_7, df_8, \n",
    "       df_9, df_10, df_11, df_12, df_13, df_14, df_15]\n",
    "\n",
    "for df in dfs:\n",
    "    df['genre'] = df['genre'].astype(str)\n",
    "    for genre in genre_labels:\n",
    "        df[genre] = df['genre'].apply(lambda x: 1 if genre in x else 0)\n",
    "\n",
    "df_0, df_1, df_2, df_3, df_4, df_5, df_6, df_7, df_8, df_9, df_10, df_11, df_12, df_13, df_14, df_15 = dfs\n"
   ]
  },
  {
   "cell_type": "code",
   "execution_count": 6,
   "id": "62cd1819-da12-4ee4-9dad-8e240e944bc4",
   "metadata": {},
   "outputs": [
    {
     "data": {
      "text/html": [
       "<div>\n",
       "<style scoped>\n",
       "    .dataframe tbody tr th:only-of-type {\n",
       "        vertical-align: middle;\n",
       "    }\n",
       "\n",
       "    .dataframe tbody tr th {\n",
       "        vertical-align: top;\n",
       "    }\n",
       "\n",
       "    .dataframe thead th {\n",
       "        text-align: right;\n",
       "    }\n",
       "</style>\n",
       "<table border=\"1\" class=\"dataframe\">\n",
       "  <thead>\n",
       "    <tr style=\"text-align: right;\">\n",
       "      <th></th>\n",
       "      <th>movie_name</th>\n",
       "      <th>genre</th>\n",
       "      <th>description</th>\n",
       "      <th>Action</th>\n",
       "      <th>Adult</th>\n",
       "      <th>Adventure</th>\n",
       "      <th>Animation</th>\n",
       "      <th>Biography</th>\n",
       "      <th>Comedy</th>\n",
       "      <th>Crime</th>\n",
       "      <th>...</th>\n",
       "      <th>News</th>\n",
       "      <th>Reality-TV</th>\n",
       "      <th>Romance</th>\n",
       "      <th>Sci-Fi</th>\n",
       "      <th>Short</th>\n",
       "      <th>Sport</th>\n",
       "      <th>Talk-Show</th>\n",
       "      <th>Thriller</th>\n",
       "      <th>War</th>\n",
       "      <th>Western</th>\n",
       "    </tr>\n",
       "  </thead>\n",
       "  <tbody>\n",
       "    <tr>\n",
       "      <th>0</th>\n",
       "      <td>Black Panther: Wakanda Forever</td>\n",
       "      <td>Action, Adventure, Drama</td>\n",
       "      <td>The people of Wakanda fight to protect their h...</td>\n",
       "      <td>1</td>\n",
       "      <td>0</td>\n",
       "      <td>1</td>\n",
       "      <td>0</td>\n",
       "      <td>0</td>\n",
       "      <td>0</td>\n",
       "      <td>0</td>\n",
       "      <td>...</td>\n",
       "      <td>0</td>\n",
       "      <td>0</td>\n",
       "      <td>0</td>\n",
       "      <td>0</td>\n",
       "      <td>0</td>\n",
       "      <td>0</td>\n",
       "      <td>0</td>\n",
       "      <td>0</td>\n",
       "      <td>0</td>\n",
       "      <td>0</td>\n",
       "    </tr>\n",
       "    <tr>\n",
       "      <th>1</th>\n",
       "      <td>Avatar: The Way of Water</td>\n",
       "      <td>Action, Adventure, Fantasy</td>\n",
       "      <td>Jake Sully lives with his newfound family form...</td>\n",
       "      <td>1</td>\n",
       "      <td>0</td>\n",
       "      <td>1</td>\n",
       "      <td>0</td>\n",
       "      <td>0</td>\n",
       "      <td>0</td>\n",
       "      <td>0</td>\n",
       "      <td>...</td>\n",
       "      <td>0</td>\n",
       "      <td>0</td>\n",
       "      <td>0</td>\n",
       "      <td>0</td>\n",
       "      <td>0</td>\n",
       "      <td>0</td>\n",
       "      <td>0</td>\n",
       "      <td>0</td>\n",
       "      <td>0</td>\n",
       "      <td>0</td>\n",
       "    </tr>\n",
       "    <tr>\n",
       "      <th>2</th>\n",
       "      <td>Plane</td>\n",
       "      <td>Action, Thriller</td>\n",
       "      <td>A pilot finds himself caught in a war zone aft...</td>\n",
       "      <td>1</td>\n",
       "      <td>0</td>\n",
       "      <td>0</td>\n",
       "      <td>0</td>\n",
       "      <td>0</td>\n",
       "      <td>0</td>\n",
       "      <td>0</td>\n",
       "      <td>...</td>\n",
       "      <td>0</td>\n",
       "      <td>0</td>\n",
       "      <td>0</td>\n",
       "      <td>0</td>\n",
       "      <td>0</td>\n",
       "      <td>0</td>\n",
       "      <td>0</td>\n",
       "      <td>1</td>\n",
       "      <td>0</td>\n",
       "      <td>0</td>\n",
       "    </tr>\n",
       "    <tr>\n",
       "      <th>3</th>\n",
       "      <td>Everything Everywhere All at Once</td>\n",
       "      <td>Action, Adventure, Comedy</td>\n",
       "      <td>A middle-aged Chinese immigrant is swept up in...</td>\n",
       "      <td>1</td>\n",
       "      <td>0</td>\n",
       "      <td>1</td>\n",
       "      <td>0</td>\n",
       "      <td>0</td>\n",
       "      <td>1</td>\n",
       "      <td>0</td>\n",
       "      <td>...</td>\n",
       "      <td>0</td>\n",
       "      <td>0</td>\n",
       "      <td>0</td>\n",
       "      <td>0</td>\n",
       "      <td>0</td>\n",
       "      <td>0</td>\n",
       "      <td>0</td>\n",
       "      <td>0</td>\n",
       "      <td>0</td>\n",
       "      <td>0</td>\n",
       "    </tr>\n",
       "    <tr>\n",
       "      <th>4</th>\n",
       "      <td>Fast X</td>\n",
       "      <td>Action, Crime, Mystery</td>\n",
       "      <td>Dom Toretto and his family are targeted by the...</td>\n",
       "      <td>1</td>\n",
       "      <td>0</td>\n",
       "      <td>0</td>\n",
       "      <td>0</td>\n",
       "      <td>0</td>\n",
       "      <td>0</td>\n",
       "      <td>1</td>\n",
       "      <td>...</td>\n",
       "      <td>0</td>\n",
       "      <td>0</td>\n",
       "      <td>0</td>\n",
       "      <td>0</td>\n",
       "      <td>0</td>\n",
       "      <td>0</td>\n",
       "      <td>0</td>\n",
       "      <td>0</td>\n",
       "      <td>0</td>\n",
       "      <td>0</td>\n",
       "    </tr>\n",
       "  </tbody>\n",
       "</table>\n",
       "<p>5 rows × 30 columns</p>\n",
       "</div>"
      ],
      "text/plain": [
       "                          movie_name                       genre  \\\n",
       "0     Black Panther: Wakanda Forever    Action, Adventure, Drama   \n",
       "1           Avatar: The Way of Water  Action, Adventure, Fantasy   \n",
       "2                              Plane            Action, Thriller   \n",
       "3  Everything Everywhere All at Once   Action, Adventure, Comedy   \n",
       "4                             Fast X      Action, Crime, Mystery   \n",
       "\n",
       "                                         description  Action  Adult  \\\n",
       "0  The people of Wakanda fight to protect their h...       1      0   \n",
       "1  Jake Sully lives with his newfound family form...       1      0   \n",
       "2  A pilot finds himself caught in a war zone aft...       1      0   \n",
       "3  A middle-aged Chinese immigrant is swept up in...       1      0   \n",
       "4  Dom Toretto and his family are targeted by the...       1      0   \n",
       "\n",
       "   Adventure  Animation  Biography  Comedy  Crime  ...  News  Reality-TV  \\\n",
       "0          1          0          0       0      0  ...     0           0   \n",
       "1          1          0          0       0      0  ...     0           0   \n",
       "2          0          0          0       0      0  ...     0           0   \n",
       "3          1          0          0       1      0  ...     0           0   \n",
       "4          0          0          0       0      1  ...     0           0   \n",
       "\n",
       "   Romance  Sci-Fi  Short  Sport  Talk-Show  Thriller  War  Western  \n",
       "0        0       0      0      0          0         0    0        0  \n",
       "1        0       0      0      0          0         0    0        0  \n",
       "2        0       0      0      0          0         1    0        0  \n",
       "3        0       0      0      0          0         0    0        0  \n",
       "4        0       0      0      0          0         0    0        0  \n",
       "\n",
       "[5 rows x 30 columns]"
      ]
     },
     "execution_count": 6,
     "metadata": {},
     "output_type": "execute_result"
    }
   ],
   "source": [
    "df_0.head()"
   ]
  },
  {
   "cell_type": "code",
   "execution_count": 7,
   "id": "d7c16d95-8090-49c7-9349-9b4c69a9d5b1",
   "metadata": {},
   "outputs": [
    {
     "data": {
      "text/plain": [
       "'genre_columns = [\"Action\", \"Adult\", \"Adventure\", \"Animation\", \"Biography\", \"Comedy\", \"Crime\", \"Drama\", \"Family\", \"Fantasy\", \"Film-Noir\", \"History\", \"Horror\", \"Mystery\", \"Romance\", \"Thriller\"]\\ndf_genres = df[genre_columns]\\n\\ngenre_counts = df_genres.sum()\\nprint(\"Genre counts:\")\\nprint(genre_counts)'"
      ]
     },
     "execution_count": 7,
     "metadata": {},
     "output_type": "execute_result"
    }
   ],
   "source": [
    "'''genre_columns = [\"Action\", \"Adult\", \"Adventure\", \"Animation\", \"Biography\", \"Comedy\", \"Crime\", \"Drama\", \"Family\", \"Fantasy\", \"Film-Noir\", \"History\", \"Horror\", \"Mystery\", \"Romance\", \"Thriller\"]\n",
    "df_genres = df[genre_columns]\n",
    "\n",
    "genre_counts = df_genres.sum()\n",
    "print(\"Genre counts:\")\n",
    "print(genre_counts)'''"
   ]
  },
  {
   "cell_type": "code",
   "execution_count": 6,
   "id": "f659a989-5647-4572-96c5-aee71bcb449d",
   "metadata": {},
   "outputs": [
    {
     "name": "stdout",
     "output_type": "stream",
     "text": [
      "Index(['movie_name', 'genre', 'description', 'Action', 'Adult', 'Adventure',\n",
      "       'Animation', 'Biography', 'Comedy', 'Crime', 'Drama', 'Family',\n",
      "       'Fantasy', 'Film-Noir', 'Game-Show', 'History', 'Horror', 'Music',\n",
      "       'Musical', 'Mystery', 'News', 'Reality-TV', 'Romance', 'Sci-Fi',\n",
      "       'Short', 'Sport', 'Talk-Show', 'Thriller', 'War', 'Western'],\n",
      "      dtype='object')\n"
     ]
    }
   ],
   "source": [
    "print(df_0.columns)"
   ]
  },
  {
   "cell_type": "code",
   "execution_count": 5,
   "id": "7bc1768c-d279-4654-aa9f-c79da1ec6617",
   "metadata": {},
   "outputs": [
    {
     "name": "stdout",
     "output_type": "stream",
     "text": [
      "Dataset saved at D:\\AISHU\\College notes\\3RD Year\\6TH SEM\\DATA SCIENCE\\Project\\DS/combined_movies.csv\n"
     ]
    }
   ],
   "source": [
    "dfs = [df_0, df_1, df_2, df_3, df_4, df_5, df_6, df_7, df_8, \n",
    "       df_9, df_10, df_11, df_12, df_13, df_14, df_15]\n",
    "\n",
    "combined_df = pd.concat(dfs, ignore_index=True)\n",
    "save_path = r\"D:\\AISHU\\College notes\\3RD Year\\6TH SEM\\DATA SCIENCE\\Project\\DS/combined_movies.csv\"\n",
    "combined_df.to_csv(save_path, index=False)\n",
    "\n",
    "print(f\"Dataset saved at {save_path}\")\n"
   ]
  },
  {
   "cell_type": "code",
   "execution_count": 6,
   "id": "a4495123-6259-4537-b727-6c9845fd4386",
   "metadata": {},
   "outputs": [
    {
     "name": "stdout",
     "output_type": "stream",
     "text": [
      "Index(['movie_name', 'genre', 'description', 'Action', 'Adult', 'Adventure',\n",
      "       'Animation', 'Biography', 'Comedy', 'Crime', 'Drama', 'Family',\n",
      "       'Fantasy', 'Film-Noir', 'Game-Show', 'History', 'Horror', 'Music',\n",
      "       'Musical', 'Mystery', 'News', 'Reality-TV', 'Romance', 'Sci-Fi',\n",
      "       'Short', 'Sport', 'Talk-Show', 'Thriller', 'War', 'Western'],\n",
      "      dtype='object')\n"
     ]
    }
   ],
   "source": [
    "print(combined_df.columns)"
   ]
  },
  {
   "cell_type": "code",
   "execution_count": null,
   "id": "918500ad-4c9d-4ab3-8a4c-64a5f74447f4",
   "metadata": {},
   "outputs": [],
   "source": []
  }
 ],
 "metadata": {
  "kernelspec": {
   "display_name": "Python 3",
   "language": "python",
   "name": "python3"
  },
  "language_info": {
   "codemirror_mode": {
    "name": "ipython",
    "version": 3
   },
   "file_extension": ".py",
   "mimetype": "text/x-python",
   "name": "python",
   "nbconvert_exporter": "python",
   "pygments_lexer": "ipython3",
   "version": "3.10.9"
  }
 },
 "nbformat": 4,
 "nbformat_minor": 5
}
